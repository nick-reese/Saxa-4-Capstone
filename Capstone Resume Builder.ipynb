{
 "cells": [
  {
   "cell_type": "markdown",
   "id": "19d15f74",
   "metadata": {},
   "source": [
    "# Capstone Resumes\n",
    "## Saxa 4"
   ]
  },
  {
   "cell_type": "markdown",
   "id": "be9f6574",
   "metadata": {},
   "source": [
    "***"
   ]
  },
  {
   "cell_type": "code",
   "execution_count": 32,
   "id": "d46e171d",
   "metadata": {},
   "outputs": [
    {
     "name": "stderr",
     "output_type": "stream",
     "text": [
      "[nltk_data] Downloading package punkt to\n",
      "[nltk_data]     /Users/nicholasreese/nltk_data...\n",
      "[nltk_data]   Package punkt is already up-to-date!\n"
     ]
    }
   ],
   "source": [
    "import requests\n",
    "from bs4 import BeautifulSoup\n",
    "import pandas as pd\n",
    "import json\n",
    "from docx import Document\n",
    "import os\n",
    "from sklearn.feature_extraction.text import CountVectorizer\n",
    "import matplotlib.pyplot as plt\n",
    "from wordcloud import WordCloud\n",
    "import pdfplumber\n",
    "import nltk\n",
    "nltk.download('punkt')\n",
    "from textblob import TextBlob\n",
    "import plotly.graph_objects as go\n",
    "import plotly.express as px\n",
    "import os\n",
    "import json\n",
    "from docx import Document\n",
    "import pdfplumber"
   ]
  },
  {
   "cell_type": "markdown",
   "id": "c65ca3b6",
   "metadata": {},
   "source": [
    "***"
   ]
  },
  {
   "cell_type": "code",
   "execution_count": 9,
   "id": "93e72525",
   "metadata": {
    "scrolled": true
   },
   "outputs": [
    {
     "name": "stdout",
     "output_type": "stream",
     "text": [
      "Skipped temporary file: ~$hlyn Bellardine Resume 2024.docx\n"
     ]
    }
   ],
   "source": [
    "import os\n",
    "import json\n",
    "from docx import Document\n",
    "import pdfplumber\n",
    "\n",
    "def convert_files_to_json(folder_path, output_json_file):\n",
    "    corpus = []\n",
    "    \n",
    "    for filename in os.listdir(folder_path):\n",
    "        file_path = os.path.join(folder_path, filename)\n",
    "\n",
    "        # Skip temporary files created by Word\n",
    "        if filename.startswith('~$'):\n",
    "            print(f\"Skipped temporary file: {filename}\")\n",
    "            continue\n",
    "        \n",
    "        if filename.endswith('.docx'):\n",
    "            try:\n",
    "                doc = Document(file_path)\n",
    "                text = '\\n'.join([para.text for para in doc.paragraphs])\n",
    "                document_data = {\n",
    "                    'title': filename,\n",
    "                    'text': text, \n",
    "                    'type': 'word',\n",
    "                    'file_path': file_path\n",
    "                }\n",
    "                corpus.append(document_data)\n",
    "                print(f\"Added .docx: {filename}\") \n",
    "        \n",
    "            except Exception as e:\n",
    "                print(f\"Error processing .docx file {filename}: {e}\")\n",
    "        \n",
    "        elif filename.endswith('.pdf'):\n",
    "            try:\n",
    "                with pdfplumber.open(file_path) as pdf:\n",
    "                    text = '\\n'.join([page.extract_text() for page in pdf.pages if page.extract_text()])\n",
    "                    document_data = {\n",
    "                        'title': filename, \n",
    "                        'text': text,\n",
    "                        'type': 'pdf',\n",
    "                        'file_path': file_path\n",
    "                    }\n",
    "                    corpus.append(document_data)\n",
    "                    print(f\"Added .pdf: {filename}\")\n",
    "                    \n",
    "            except Exception as e:\n",
    "                print(f\"Error processing .pdf file {filename}: {e}\")\n",
    "                \n",
    "    with open(output_json_file, 'w', encoding='utf-8') as json_file:\n",
    "        json.dump(corpus, json_file, ensure_ascii=False, indent=4)\n",
    "\n",
    "# Call the function with your paths\n",
    "convert_files_to_json('/Users/nicholasreese/Desktop/Georgetown/Capstone/NER_Modeling', 'output_corpus.json')\n",
    "# change your file path to where you saved the resumes"
   ]
  },
  {
   "cell_type": "code",
   "execution_count": 10,
   "id": "7e27ad29",
   "metadata": {},
   "outputs": [],
   "source": [
    "resumes = pd.read_json('output_corpus.json')"
   ]
  },
  {
   "cell_type": "code",
   "execution_count": 7,
   "id": "cad79171",
   "metadata": {
    "scrolled": true
   },
   "outputs": [
    {
     "data": {
      "text/html": [
       "<div>\n",
       "<style scoped>\n",
       "    .dataframe tbody tr th:only-of-type {\n",
       "        vertical-align: middle;\n",
       "    }\n",
       "\n",
       "    .dataframe tbody tr th {\n",
       "        vertical-align: top;\n",
       "    }\n",
       "\n",
       "    .dataframe thead th {\n",
       "        text-align: right;\n",
       "    }\n",
       "</style>\n",
       "<table border=\"1\" class=\"dataframe\">\n",
       "  <thead>\n",
       "    <tr style=\"text-align: right;\">\n",
       "      <th></th>\n",
       "    </tr>\n",
       "  </thead>\n",
       "  <tbody>\n",
       "  </tbody>\n",
       "</table>\n",
       "</div>"
      ],
      "text/plain": [
       "Empty DataFrame\n",
       "Columns: []\n",
       "Index: []"
      ]
     },
     "execution_count": 7,
     "metadata": {},
     "output_type": "execute_result"
    }
   ],
   "source": [
    "resumes"
   ]
  },
  {
   "cell_type": "markdown",
   "id": "bf08ac04",
   "metadata": {},
   "source": [
    "Ashlyn's resume doesnt work because it is not a UTF-8 string. I think its because all of her paragraphs in her resume are in tables or textboxes. I saw something similar when the function did not pick up my table in my resume. "
   ]
  },
  {
   "cell_type": "markdown",
   "id": "d3ec0945",
   "metadata": {},
   "source": [
    "***"
   ]
  },
  {
   "cell_type": "code",
   "execution_count": 5,
   "id": "6dd6ccd8",
   "metadata": {},
   "outputs": [],
   "source": [
    "from nltk.tokenize import word_tokenize\n",
    "from nltk.tokenize import sent_tokenize"
   ]
  },
  {
   "cell_type": "code",
   "execution_count": 6,
   "id": "826d23b9",
   "metadata": {},
   "outputs": [
    {
     "ename": "KeyError",
     "evalue": "'text'",
     "output_type": "error",
     "traceback": [
      "\u001b[0;31m---------------------------------------------------------------------------\u001b[0m",
      "\u001b[0;31mKeyError\u001b[0m                                  Traceback (most recent call last)",
      "Cell \u001b[0;32mIn[6], line 3\u001b[0m\n\u001b[1;32m      1\u001b[0m \u001b[38;5;66;03m### Converting All Text to lower case\u001b[39;00m\n\u001b[0;32m----> 3\u001b[0m resumes[\u001b[38;5;124m'\u001b[39m\u001b[38;5;124mtext\u001b[39m\u001b[38;5;124m'\u001b[39m] \u001b[38;5;241m=\u001b[39m resumes[\u001b[38;5;124m'\u001b[39m\u001b[38;5;124mtext\u001b[39m\u001b[38;5;124m'\u001b[39m]\u001b[38;5;241m.\u001b[39mstr\u001b[38;5;241m.\u001b[39mlower()\n",
      "File \u001b[0;32m~/anaconda3/lib/python3.11/site-packages/pandas/core/frame.py:3761\u001b[0m, in \u001b[0;36mDataFrame.__getitem__\u001b[0;34m(self, key)\u001b[0m\n\u001b[1;32m   3759\u001b[0m \u001b[38;5;28;01mif\u001b[39;00m \u001b[38;5;28mself\u001b[39m\u001b[38;5;241m.\u001b[39mcolumns\u001b[38;5;241m.\u001b[39mnlevels \u001b[38;5;241m>\u001b[39m \u001b[38;5;241m1\u001b[39m:\n\u001b[1;32m   3760\u001b[0m     \u001b[38;5;28;01mreturn\u001b[39;00m \u001b[38;5;28mself\u001b[39m\u001b[38;5;241m.\u001b[39m_getitem_multilevel(key)\n\u001b[0;32m-> 3761\u001b[0m indexer \u001b[38;5;241m=\u001b[39m \u001b[38;5;28mself\u001b[39m\u001b[38;5;241m.\u001b[39mcolumns\u001b[38;5;241m.\u001b[39mget_loc(key)\n\u001b[1;32m   3762\u001b[0m \u001b[38;5;28;01mif\u001b[39;00m is_integer(indexer):\n\u001b[1;32m   3763\u001b[0m     indexer \u001b[38;5;241m=\u001b[39m [indexer]\n",
      "File \u001b[0;32m~/anaconda3/lib/python3.11/site-packages/pandas/core/indexes/range.py:349\u001b[0m, in \u001b[0;36mRangeIndex.get_loc\u001b[0;34m(self, key)\u001b[0m\n\u001b[1;32m    347\u001b[0m         \u001b[38;5;28;01mraise\u001b[39;00m \u001b[38;5;167;01mKeyError\u001b[39;00m(key) \u001b[38;5;28;01mfrom\u001b[39;00m \u001b[38;5;21;01merr\u001b[39;00m\n\u001b[1;32m    348\u001b[0m \u001b[38;5;28;01mif\u001b[39;00m \u001b[38;5;28misinstance\u001b[39m(key, Hashable):\n\u001b[0;32m--> 349\u001b[0m     \u001b[38;5;28;01mraise\u001b[39;00m \u001b[38;5;167;01mKeyError\u001b[39;00m(key)\n\u001b[1;32m    350\u001b[0m \u001b[38;5;28mself\u001b[39m\u001b[38;5;241m.\u001b[39m_check_indexing_error(key)\n\u001b[1;32m    351\u001b[0m \u001b[38;5;28;01mraise\u001b[39;00m \u001b[38;5;167;01mKeyError\u001b[39;00m(key)\n",
      "\u001b[0;31mKeyError\u001b[0m: 'text'"
     ]
    }
   ],
   "source": [
    "### Converting All Text to lower case\n",
    "\n",
    "resumes['text'] = resumes['text'].str.lower()"
   ]
  },
  {
   "cell_type": "code",
   "execution_count": null,
   "id": "390c542b",
   "metadata": {},
   "outputs": [],
   "source": [
    "resumes"
   ]
  },
  {
   "cell_type": "code",
   "execution_count": null,
   "id": "481455a7",
   "metadata": {},
   "outputs": [],
   "source": [
    "resumes_values = [f'res{i + 1}' for i in range(len(resumes))]"
   ]
  },
  {
   "cell_type": "code",
   "execution_count": null,
   "id": "bf7c2349",
   "metadata": {},
   "outputs": [],
   "source": [
    "resumes.insert(0, 'resume', resumes_values)"
   ]
  },
  {
   "cell_type": "code",
   "execution_count": null,
   "id": "c85de465",
   "metadata": {},
   "outputs": [],
   "source": [
    "resumes"
   ]
  },
  {
   "cell_type": "code",
   "execution_count": null,
   "id": "3270e81d",
   "metadata": {},
   "outputs": [],
   "source": [
    "vec = CountVectorizer()"
   ]
  },
  {
   "cell_type": "code",
   "execution_count": null,
   "id": "06d895e9",
   "metadata": {},
   "outputs": [],
   "source": [
    "resumes_vec = vec.fit_transform(resumes['text'])"
   ]
  },
  {
   "cell_type": "code",
   "execution_count": null,
   "id": "5e430c0a",
   "metadata": {},
   "outputs": [],
   "source": [
    "#print(resumes_vec)"
   ]
  },
  {
   "cell_type": "code",
   "execution_count": null,
   "id": "c70a547e",
   "metadata": {},
   "outputs": [],
   "source": [
    "resumes_vec_dense = pd.DataFrame(resumes_vec.todense(),\n",
    "                                columns = vec.get_feature_names_out(),\n",
    "                                index = resumes['resume'])"
   ]
  },
  {
   "cell_type": "code",
   "execution_count": null,
   "id": "5ae189c1",
   "metadata": {},
   "outputs": [],
   "source": [
    "print(resumes_vec_dense)"
   ]
  },
  {
   "cell_type": "code",
   "execution_count": null,
   "id": "bd4715c3",
   "metadata": {},
   "outputs": [],
   "source": [
    "print(f\"Number of Resumes: {resumes_vec_dense.shape[0]}\")"
   ]
  },
  {
   "cell_type": "code",
   "execution_count": null,
   "id": "2dcd4c75",
   "metadata": {},
   "outputs": [],
   "source": [
    "print(f\" Number of terms: {resumes_vec_dense.shape[1]}\")"
   ]
  },
  {
   "cell_type": "markdown",
   "id": "e179100c",
   "metadata": {},
   "source": [
    "***"
   ]
  },
  {
   "cell_type": "markdown",
   "id": "b7fdced0",
   "metadata": {},
   "source": [
    "## Bag of Words for Resumes"
   ]
  },
  {
   "cell_type": "code",
   "execution_count": null,
   "id": "7454c4dd",
   "metadata": {},
   "outputs": [],
   "source": [
    "resumes_vec2 = vec.fit_transform(resumes['text'])"
   ]
  },
  {
   "cell_type": "code",
   "execution_count": null,
   "id": "ee3047ac",
   "metadata": {},
   "outputs": [],
   "source": [
    "resumes_vec2 = pd.DataFrame(resumes_vec2.todense(),\n",
    "                           columns = vec.get_feature_names_out())"
   ]
  },
  {
   "cell_type": "code",
   "execution_count": null,
   "id": "b473060a",
   "metadata": {},
   "outputs": [],
   "source": [
    "resumes_cat = pd.concat([resumes[['resume']], resumes_vec2], axis = 1)"
   ]
  },
  {
   "cell_type": "code",
   "execution_count": null,
   "id": "8c9cf674",
   "metadata": {},
   "outputs": [],
   "source": [
    "resumes_cat"
   ]
  },
  {
   "cell_type": "markdown",
   "id": "d0d8b348",
   "metadata": {},
   "source": [
    "***"
   ]
  },
  {
   "cell_type": "markdown",
   "id": "5f421c3f",
   "metadata": {},
   "source": [
    "## TD - IDF\n",
    "\n",
    "finding the TD-IDF scores of unique words "
   ]
  },
  {
   "cell_type": "code",
   "execution_count": null,
   "id": "aa9c87d3",
   "metadata": {},
   "outputs": [],
   "source": [
    "from sklearn.feature_extraction.text import TfidfVectorizer"
   ]
  },
  {
   "cell_type": "code",
   "execution_count": null,
   "id": "c08da8f7",
   "metadata": {},
   "outputs": [],
   "source": [
    "tvec = TfidfVectorizer(stop_words = 'english')"
   ]
  },
  {
   "cell_type": "code",
   "execution_count": null,
   "id": "088eeb8d",
   "metadata": {},
   "outputs": [],
   "source": [
    "resume_vec = tvec.fit_transform(resumes['text'])"
   ]
  },
  {
   "cell_type": "code",
   "execution_count": null,
   "id": "f8aa4667",
   "metadata": {},
   "outputs": [],
   "source": [
    "resumes_tvec = pd.DataFrame(resume_vec.todense(),\n",
    "                           columns = tvec.get_feature_names_out())"
   ]
  },
  {
   "cell_type": "code",
   "execution_count": null,
   "id": "46bf491c",
   "metadata": {},
   "outputs": [],
   "source": [
    "resumes_tvec"
   ]
  },
  {
   "cell_type": "markdown",
   "id": "459bd97a",
   "metadata": {},
   "source": [
    "***"
   ]
  },
  {
   "cell_type": "markdown",
   "id": "ba86bcdb",
   "metadata": {},
   "source": [
    "## Adding Bag of N-grams\n",
    "\n",
    "This might help us because we may need word associations that could better filter the pairing of words"
   ]
  },
  {
   "cell_type": "code",
   "execution_count": null,
   "id": "721add81",
   "metadata": {},
   "outputs": [],
   "source": [
    "vec_2 = CountVectorizer(ngram_range = (1,2))"
   ]
  },
  {
   "cell_type": "code",
   "execution_count": null,
   "id": "d7cdd3ae",
   "metadata": {},
   "outputs": [],
   "source": [
    "resume_vec2 = vec.fit_transform(resumes['text'])"
   ]
  },
  {
   "cell_type": "code",
   "execution_count": null,
   "id": "22a2cf53",
   "metadata": {},
   "outputs": [],
   "source": [
    "resume_vec2 = pd.DataFrame(resume_vec2.todense(),\n",
    "                          columns = vec.get_feature_names_out())"
   ]
  },
  {
   "cell_type": "code",
   "execution_count": null,
   "id": "ea3a14f4",
   "metadata": {},
   "outputs": [],
   "source": [
    "resume_vec2"
   ]
  },
  {
   "cell_type": "markdown",
   "id": "c35715cf",
   "metadata": {},
   "source": [
    "***"
   ]
  },
  {
   "cell_type": "markdown",
   "id": "ad0be2d7",
   "metadata": {},
   "source": [
    "## Checking the Most Frequent Words"
   ]
  },
  {
   "cell_type": "markdown",
   "id": "3c1dd684",
   "metadata": {},
   "source": [
    "### One Word Ngrams"
   ]
  },
  {
   "cell_type": "code",
   "execution_count": null,
   "id": "cd872161",
   "metadata": {},
   "outputs": [],
   "source": [
    "resumes = pd.DataFrame(resumes)\n",
    "resumes"
   ]
  },
  {
   "cell_type": "code",
   "execution_count": null,
   "id": "208bdbb2",
   "metadata": {},
   "outputs": [],
   "source": [
    "vec = CountVectorizer(ngram_range = (1,1), stop_words = 'english')\n",
    "\n",
    "resume_vec = vec.fit_transform(resumes['text'])\n",
    "resume_vec = pd.DataFrame(resume_vec.todense(),\n",
    "                         columns = vec.get_feature_names_out())\n",
    "resume_df = pd.concat([resumes[['text']], resume_vec],\n",
    "                     axis = 1)"
   ]
  },
  {
   "cell_type": "code",
   "execution_count": null,
   "id": "18bca215",
   "metadata": {
    "scrolled": true
   },
   "outputs": [],
   "source": [
    "word_count = resume_vec.sum(axis = 0)\n",
    "\n",
    "word_counts_df = pd.DataFrame(word_count, columns = ['count']).reset_index()\n",
    "\n",
    "word_counts_df.columns = ['word', 'count']"
   ]
  },
  {
   "cell_type": "code",
   "execution_count": null,
   "id": "41dceec7",
   "metadata": {},
   "outputs": [],
   "source": [
    "top_words = word_counts_df.sort_values(by = 'count', ascending = False)\n",
    "print(top_words)"
   ]
  },
  {
   "cell_type": "code",
   "execution_count": null,
   "id": "69b30c0b",
   "metadata": {},
   "outputs": [],
   "source": [
    "top = pd.DataFrame(top_words).nlargest(10, 'count')\n",
    "\n",
    "fig = go.Figure()\n",
    "\n",
    "fig.add_trace(go.Bar(\n",
    "    x=top['word'],\n",
    "    y=top['count'],\n",
    "    marker_color='skyblue',\n",
    "    text=top['count'],\n",
    "    textposition='auto',  \n",
    "    hovertemplate='Word: %{x}<br>Count: %{y}<extra></extra>' \n",
    "))\n",
    "\n",
    "\n",
    "fig.update_layout(\n",
    "    title='Top 10 Most Frequent Resume Words',\n",
    "    xaxis_title='Words',\n",
    "    yaxis_title='Count',\n",
    "    xaxis_tickangle=-45  \n",
    ")\n",
    "\n",
    "fig.show()"
   ]
  },
  {
   "cell_type": "markdown",
   "id": "05652f1d",
   "metadata": {},
   "source": [
    "***"
   ]
  },
  {
   "cell_type": "markdown",
   "id": "5f12cafd",
   "metadata": {},
   "source": [
    "### Two Word Ngrams"
   ]
  },
  {
   "cell_type": "code",
   "execution_count": null,
   "id": "56928902",
   "metadata": {},
   "outputs": [],
   "source": [
    "two_word_resume = pd.DataFrame(resumes)\n",
    "\n",
    "vec = CountVectorizer(ngram_range = (2,2), stop_words = 'english')\n",
    "two_word_vec = vec.fit_transform(two_word_resume['text'])\n",
    "two_word_vec = pd.DataFrame(two_word_vec.todense(),\n",
    "                           columns = vec.get_feature_names_out())\n",
    "\n",
    "two_word_resume_new = pd.concat([two_word_resume[['text']], two_word_vec],\n",
    "                               axis = 1)"
   ]
  },
  {
   "cell_type": "code",
   "execution_count": null,
   "id": "ff5cd2b9",
   "metadata": {},
   "outputs": [],
   "source": [
    "word_count_two = two_word_vec.sum(axis = 0)\n",
    "\n",
    "word_counts_two_df = pd.DataFrame(word_count_two, columns = ['count']).reset_index()\n",
    "\n",
    "word_counts_two_df.columns = ['word', 'count']\n",
    "\n",
    "top_two_words = word_counts_two_df.sort_values(by = 'count', ascending = False)\n",
    "top_two_words"
   ]
  },
  {
   "cell_type": "code",
   "execution_count": null,
   "id": "821c0056",
   "metadata": {},
   "outputs": [],
   "source": [
    "top = pd.DataFrame(top_two_words).nlargest(10, 'count')\n",
    "\n",
    "fig = go.Figure()\n",
    "\n",
    "fig.add_trace(go.Bar(\n",
    "    x=top['word'],\n",
    "    y=top['count'],\n",
    "    marker_color='skyblue',\n",
    "    text=top['count'],\n",
    "    textposition='auto',  \n",
    "    hovertemplate='Word: %{x}<br>Count: %{y}<extra></extra>' \n",
    "))\n",
    "\n",
    "\n",
    "fig.update_layout(\n",
    "    title='Top 10 Most Frequent Resume Words',\n",
    "    xaxis_title='Words',\n",
    "    yaxis_title='Count',\n",
    "    xaxis_tickangle=-45  \n",
    ")\n",
    "\n",
    "fig.show()"
   ]
  },
  {
   "cell_type": "markdown",
   "id": "af356778",
   "metadata": {},
   "source": [
    "***"
   ]
  },
  {
   "cell_type": "markdown",
   "id": "13aa3c0b",
   "metadata": {},
   "source": [
    "## Creating a Function for the Words"
   ]
  },
  {
   "cell_type": "code",
   "execution_count": null,
   "id": "cf01774d",
   "metadata": {},
   "outputs": [],
   "source": [
    "def top_words(data,n=10, ngram_range = (1,1)):\n",
    "    \n",
    "    data = pd.DataFrame(data)\n",
    "    \n",
    "    vec = CountVectorizer(ngram_range = ngram_range, stop_words = 'english')\n",
    "    data_vec = vec.fit_transform(data['text'])\n",
    "    vec = pd.DataFrame(data_vec.todense(),\n",
    "                      columns = vec.get_feature_names_out())\n",
    "    \n",
    "    data_new = pd.concat([data[['text']], vec],\n",
    "                        axis = 1)\n",
    "    \n",
    "    word_count = vec.sum(axis = 0)\n",
    "    word_count_df = pd.DataFrame(word_count, columns = ['count']).reset_index()\n",
    "    word_count_df.columns = ['word', 'count']\n",
    "    \n",
    "    top_words = word_count_df.sort_values(by = 'count', ascending = False)\n",
    "    top = pd.DataFrame(top_words)\n",
    "    top = top_words.nlargest(n, 'count')\n",
    "    \n",
    "    fig = go.Figure()\n",
    "    \n",
    "    fig.add_trace(go.Bar(\n",
    "        x=top['word'],\n",
    "        y=top['count'],\n",
    "        marker_color='skyblue',\n",
    "        text=top['count'],\n",
    "        textposition='auto',  \n",
    "        hovertemplate='Word: %{x}<br>Count: %{y}<extra></extra>' \n",
    "))\n",
    "    \n",
    "    fig.update_layout(\n",
    "        title = f'Top {n} Words or Phrases Mentioned in Resumes', #I want to change this in soon\n",
    "        xaxis_title = 'Words', \n",
    "        yaxis_title = 'Count',\n",
    "        xaxis_tickangle = -45)\n",
    "    \n",
    "    fig.show()"
   ]
  },
  {
   "cell_type": "code",
   "execution_count": null,
   "id": "d99e25b0",
   "metadata": {},
   "outputs": [],
   "source": [
    "top_words(resumes, 15, ngram_range=(3,3))"
   ]
  },
  {
   "cell_type": "markdown",
   "id": "ec2daad6",
   "metadata": {},
   "source": [
    "## How could we make a function that shows certian key words?"
   ]
  },
  {
   "cell_type": "markdown",
   "id": "a08d7e19",
   "metadata": {},
   "source": [
    "***"
   ]
  },
  {
   "cell_type": "markdown",
   "id": "39fec546",
   "metadata": {},
   "source": [
    "## Adding in the Other Resumes"
   ]
  },
  {
   "cell_type": "code",
   "execution_count": 11,
   "id": "0e186bfd",
   "metadata": {},
   "outputs": [],
   "source": [
    "more_resumes = pd.read_csv('Resumes_with_PII_updated.csv')"
   ]
  },
  {
   "cell_type": "code",
   "execution_count": 12,
   "id": "3ff4f1fe",
   "metadata": {},
   "outputs": [],
   "source": [
    "more_resumes.to_json('more_resumes.json', orient = 'records', lines = True)"
   ]
  },
  {
   "cell_type": "code",
   "execution_count": 13,
   "id": "71be42bd",
   "metadata": {},
   "outputs": [],
   "source": [
    "more_resumes.rename(columns = {'Resume_str': 'text'}, inplace = True)"
   ]
  },
  {
   "cell_type": "code",
   "execution_count": 14,
   "id": "052be8fe",
   "metadata": {},
   "outputs": [
    {
     "data": {
      "text/html": [
       "<div>\n",
       "<style scoped>\n",
       "    .dataframe tbody tr th:only-of-type {\n",
       "        vertical-align: middle;\n",
       "    }\n",
       "\n",
       "    .dataframe tbody tr th {\n",
       "        vertical-align: top;\n",
       "    }\n",
       "\n",
       "    .dataframe thead th {\n",
       "        text-align: right;\n",
       "    }\n",
       "</style>\n",
       "<table border=\"1\" class=\"dataframe\">\n",
       "  <thead>\n",
       "    <tr style=\"text-align: right;\">\n",
       "      <th></th>\n",
       "      <th>ID</th>\n",
       "      <th>Category</th>\n",
       "      <th>text</th>\n",
       "    </tr>\n",
       "  </thead>\n",
       "  <tbody>\n",
       "    <tr>\n",
       "      <th>0</th>\n",
       "      <td>1</td>\n",
       "      <td>HR</td>\n",
       "      <td>Alexis Lee \\n\\nalexis.lee@gmail.com\\n\\n(728) 6...</td>\n",
       "    </tr>\n",
       "    <tr>\n",
       "      <th>1</th>\n",
       "      <td>2</td>\n",
       "      <td>HR</td>\n",
       "      <td>Brian Medina \\n\\nbrian.medina@outlook.com\\n\\n(...</td>\n",
       "    </tr>\n",
       "    <tr>\n",
       "      <th>2</th>\n",
       "      <td>3</td>\n",
       "      <td>HR</td>\n",
       "      <td>Melinda Cohen \\n\\nmelinda.cohen@gmail.com\\n\\n(...</td>\n",
       "    </tr>\n",
       "    <tr>\n",
       "      <th>3</th>\n",
       "      <td>4</td>\n",
       "      <td>HR</td>\n",
       "      <td>Penny Webb \\n\\npenny.webb@yahoo.com\\n\\n(465) 6...</td>\n",
       "    </tr>\n",
       "    <tr>\n",
       "      <th>4</th>\n",
       "      <td>5</td>\n",
       "      <td>HR</td>\n",
       "      <td>Jennifer Hansen \\n\\njennifer.hansen@gmail.com\\...</td>\n",
       "    </tr>\n",
       "    <tr>\n",
       "      <th>...</th>\n",
       "      <td>...</td>\n",
       "      <td>...</td>\n",
       "      <td>...</td>\n",
       "    </tr>\n",
       "    <tr>\n",
       "      <th>2479</th>\n",
       "      <td>2479</td>\n",
       "      <td>AVIATION</td>\n",
       "      <td>Randall Jackson \\n\\nrandall.jackson@gmail.com\\...</td>\n",
       "    </tr>\n",
       "    <tr>\n",
       "      <th>2480</th>\n",
       "      <td>2480</td>\n",
       "      <td>AVIATION</td>\n",
       "      <td>Brittany Brown \\n\\nbrittany.brown@yahoo.com\\n\\...</td>\n",
       "    </tr>\n",
       "    <tr>\n",
       "      <th>2481</th>\n",
       "      <td>2481</td>\n",
       "      <td>AVIATION</td>\n",
       "      <td>Charles Frazier \\n\\ncharles.frazier@hotmail.co...</td>\n",
       "    </tr>\n",
       "    <tr>\n",
       "      <th>2482</th>\n",
       "      <td>2482</td>\n",
       "      <td>AVIATION</td>\n",
       "      <td>Richard Camacho \\n\\nrichard.camacho@mail.com\\n...</td>\n",
       "    </tr>\n",
       "    <tr>\n",
       "      <th>2483</th>\n",
       "      <td>2483</td>\n",
       "      <td>AVIATION</td>\n",
       "      <td>Jonathan May \\n\\njonathan.may@gmail.com\\n\\n(94...</td>\n",
       "    </tr>\n",
       "  </tbody>\n",
       "</table>\n",
       "<p>2484 rows × 3 columns</p>\n",
       "</div>"
      ],
      "text/plain": [
       "        ID  Category                                               text\n",
       "0        1        HR  Alexis Lee \\n\\nalexis.lee@gmail.com\\n\\n(728) 6...\n",
       "1        2        HR  Brian Medina \\n\\nbrian.medina@outlook.com\\n\\n(...\n",
       "2        3        HR  Melinda Cohen \\n\\nmelinda.cohen@gmail.com\\n\\n(...\n",
       "3        4        HR  Penny Webb \\n\\npenny.webb@yahoo.com\\n\\n(465) 6...\n",
       "4        5        HR  Jennifer Hansen \\n\\njennifer.hansen@gmail.com\\...\n",
       "...    ...       ...                                                ...\n",
       "2479  2479  AVIATION  Randall Jackson \\n\\nrandall.jackson@gmail.com\\...\n",
       "2480  2480  AVIATION  Brittany Brown \\n\\nbrittany.brown@yahoo.com\\n\\...\n",
       "2481  2481  AVIATION  Charles Frazier \\n\\ncharles.frazier@hotmail.co...\n",
       "2482  2482  AVIATION  Richard Camacho \\n\\nrichard.camacho@mail.com\\n...\n",
       "2483  2483  AVIATION  Jonathan May \\n\\njonathan.may@gmail.com\\n\\n(94...\n",
       "\n",
       "[2484 rows x 3 columns]"
      ]
     },
     "execution_count": 14,
     "metadata": {},
     "output_type": "execute_result"
    }
   ],
   "source": [
    "more_resumes"
   ]
  },
  {
   "cell_type": "code",
   "execution_count": 15,
   "id": "334e6f60",
   "metadata": {},
   "outputs": [
    {
     "data": {
      "text/html": [
       "<div>\n",
       "<style scoped>\n",
       "    .dataframe tbody tr th:only-of-type {\n",
       "        vertical-align: middle;\n",
       "    }\n",
       "\n",
       "    .dataframe tbody tr th {\n",
       "        vertical-align: top;\n",
       "    }\n",
       "\n",
       "    .dataframe thead th {\n",
       "        text-align: right;\n",
       "    }\n",
       "</style>\n",
       "<table border=\"1\" class=\"dataframe\">\n",
       "  <thead>\n",
       "    <tr style=\"text-align: right;\">\n",
       "      <th></th>\n",
       "      <th>ID</th>\n",
       "      <th>Category</th>\n",
       "      <th>text</th>\n",
       "    </tr>\n",
       "  </thead>\n",
       "  <tbody>\n",
       "    <tr>\n",
       "      <th>0</th>\n",
       "      <td>1</td>\n",
       "      <td>HR</td>\n",
       "      <td>Alexis Lee \\n\\nalexis.lee@gmail.com\\n\\n(728) 6...</td>\n",
       "    </tr>\n",
       "    <tr>\n",
       "      <th>1</th>\n",
       "      <td>2</td>\n",
       "      <td>HR</td>\n",
       "      <td>Brian Medina \\n\\nbrian.medina@outlook.com\\n\\n(...</td>\n",
       "    </tr>\n",
       "    <tr>\n",
       "      <th>2</th>\n",
       "      <td>3</td>\n",
       "      <td>HR</td>\n",
       "      <td>Melinda Cohen \\n\\nmelinda.cohen@gmail.com\\n\\n(...</td>\n",
       "    </tr>\n",
       "    <tr>\n",
       "      <th>3</th>\n",
       "      <td>4</td>\n",
       "      <td>HR</td>\n",
       "      <td>Penny Webb \\n\\npenny.webb@yahoo.com\\n\\n(465) 6...</td>\n",
       "    </tr>\n",
       "    <tr>\n",
       "      <th>4</th>\n",
       "      <td>5</td>\n",
       "      <td>HR</td>\n",
       "      <td>Jennifer Hansen \\n\\njennifer.hansen@gmail.com\\...</td>\n",
       "    </tr>\n",
       "    <tr>\n",
       "      <th>...</th>\n",
       "      <td>...</td>\n",
       "      <td>...</td>\n",
       "      <td>...</td>\n",
       "    </tr>\n",
       "    <tr>\n",
       "      <th>2479</th>\n",
       "      <td>2479</td>\n",
       "      <td>AVIATION</td>\n",
       "      <td>Randall Jackson \\n\\nrandall.jackson@gmail.com\\...</td>\n",
       "    </tr>\n",
       "    <tr>\n",
       "      <th>2480</th>\n",
       "      <td>2480</td>\n",
       "      <td>AVIATION</td>\n",
       "      <td>Brittany Brown \\n\\nbrittany.brown@yahoo.com\\n\\...</td>\n",
       "    </tr>\n",
       "    <tr>\n",
       "      <th>2481</th>\n",
       "      <td>2481</td>\n",
       "      <td>AVIATION</td>\n",
       "      <td>Charles Frazier \\n\\ncharles.frazier@hotmail.co...</td>\n",
       "    </tr>\n",
       "    <tr>\n",
       "      <th>2482</th>\n",
       "      <td>2482</td>\n",
       "      <td>AVIATION</td>\n",
       "      <td>Richard Camacho \\n\\nrichard.camacho@mail.com\\n...</td>\n",
       "    </tr>\n",
       "    <tr>\n",
       "      <th>2483</th>\n",
       "      <td>2483</td>\n",
       "      <td>AVIATION</td>\n",
       "      <td>Jonathan May \\n\\njonathan.may@gmail.com\\n\\n(94...</td>\n",
       "    </tr>\n",
       "  </tbody>\n",
       "</table>\n",
       "<p>2484 rows × 3 columns</p>\n",
       "</div>"
      ],
      "text/plain": [
       "        ID  Category                                               text\n",
       "0        1        HR  Alexis Lee \\n\\nalexis.lee@gmail.com\\n\\n(728) 6...\n",
       "1        2        HR  Brian Medina \\n\\nbrian.medina@outlook.com\\n\\n(...\n",
       "2        3        HR  Melinda Cohen \\n\\nmelinda.cohen@gmail.com\\n\\n(...\n",
       "3        4        HR  Penny Webb \\n\\npenny.webb@yahoo.com\\n\\n(465) 6...\n",
       "4        5        HR  Jennifer Hansen \\n\\njennifer.hansen@gmail.com\\...\n",
       "...    ...       ...                                                ...\n",
       "2479  2479  AVIATION  Randall Jackson \\n\\nrandall.jackson@gmail.com\\...\n",
       "2480  2480  AVIATION  Brittany Brown \\n\\nbrittany.brown@yahoo.com\\n\\...\n",
       "2481  2481  AVIATION  Charles Frazier \\n\\ncharles.frazier@hotmail.co...\n",
       "2482  2482  AVIATION  Richard Camacho \\n\\nrichard.camacho@mail.com\\n...\n",
       "2483  2483  AVIATION  Jonathan May \\n\\njonathan.may@gmail.com\\n\\n(94...\n",
       "\n",
       "[2484 rows x 3 columns]"
      ]
     },
     "execution_count": 15,
     "metadata": {},
     "output_type": "execute_result"
    }
   ],
   "source": [
    "more_resumes = pd.DataFrame(more_resumes)\n",
    "more_resumes"
   ]
  },
  {
   "cell_type": "code",
   "execution_count": 17,
   "id": "da0693e4",
   "metadata": {},
   "outputs": [
    {
     "data": {
      "text/plain": [
       "ID          object\n",
       "Category    object\n",
       "text        object\n",
       "dtype: object"
      ]
     },
     "execution_count": 17,
     "metadata": {},
     "output_type": "execute_result"
    }
   ],
   "source": [
    "more_resumes.dtypes"
   ]
  },
  {
   "cell_type": "code",
   "execution_count": 18,
   "id": "83650ce1",
   "metadata": {},
   "outputs": [],
   "source": [
    "#more_resumes['text'] = more_resumes['text'].apply(lambda x: x.encode('utf-8').decode('utf-8'))"
   ]
  },
  {
   "cell_type": "code",
   "execution_count": 19,
   "id": "a89b0013",
   "metadata": {},
   "outputs": [
    {
     "data": {
      "text/plain": [
       "ID          object\n",
       "Category    object\n",
       "text        object\n",
       "dtype: object"
      ]
     },
     "execution_count": 19,
     "metadata": {},
     "output_type": "execute_result"
    }
   ],
   "source": [
    "more_resumes.dtypes"
   ]
  },
  {
   "cell_type": "code",
   "execution_count": 20,
   "id": "02f1e25b",
   "metadata": {},
   "outputs": [],
   "source": [
    "#more_resumes.drop(columns = ['Resume_html'], inplace = True)"
   ]
  },
  {
   "cell_type": "code",
   "execution_count": 21,
   "id": "da510d6f",
   "metadata": {},
   "outputs": [
    {
     "data": {
      "text/html": [
       "<div>\n",
       "<style scoped>\n",
       "    .dataframe tbody tr th:only-of-type {\n",
       "        vertical-align: middle;\n",
       "    }\n",
       "\n",
       "    .dataframe tbody tr th {\n",
       "        vertical-align: top;\n",
       "    }\n",
       "\n",
       "    .dataframe thead th {\n",
       "        text-align: right;\n",
       "    }\n",
       "</style>\n",
       "<table border=\"1\" class=\"dataframe\">\n",
       "  <thead>\n",
       "    <tr style=\"text-align: right;\">\n",
       "      <th></th>\n",
       "      <th>ID</th>\n",
       "      <th>Category</th>\n",
       "      <th>text</th>\n",
       "    </tr>\n",
       "  </thead>\n",
       "  <tbody>\n",
       "    <tr>\n",
       "      <th>0</th>\n",
       "      <td>1</td>\n",
       "      <td>HR</td>\n",
       "      <td>Alexis Lee \\n\\nalexis.lee@gmail.com\\n\\n(728) 6...</td>\n",
       "    </tr>\n",
       "    <tr>\n",
       "      <th>1</th>\n",
       "      <td>2</td>\n",
       "      <td>HR</td>\n",
       "      <td>Brian Medina \\n\\nbrian.medina@outlook.com\\n\\n(...</td>\n",
       "    </tr>\n",
       "    <tr>\n",
       "      <th>2</th>\n",
       "      <td>3</td>\n",
       "      <td>HR</td>\n",
       "      <td>Melinda Cohen \\n\\nmelinda.cohen@gmail.com\\n\\n(...</td>\n",
       "    </tr>\n",
       "    <tr>\n",
       "      <th>3</th>\n",
       "      <td>4</td>\n",
       "      <td>HR</td>\n",
       "      <td>Penny Webb \\n\\npenny.webb@yahoo.com\\n\\n(465) 6...</td>\n",
       "    </tr>\n",
       "    <tr>\n",
       "      <th>4</th>\n",
       "      <td>5</td>\n",
       "      <td>HR</td>\n",
       "      <td>Jennifer Hansen \\n\\njennifer.hansen@gmail.com\\...</td>\n",
       "    </tr>\n",
       "    <tr>\n",
       "      <th>...</th>\n",
       "      <td>...</td>\n",
       "      <td>...</td>\n",
       "      <td>...</td>\n",
       "    </tr>\n",
       "    <tr>\n",
       "      <th>2479</th>\n",
       "      <td>2479</td>\n",
       "      <td>AVIATION</td>\n",
       "      <td>Randall Jackson \\n\\nrandall.jackson@gmail.com\\...</td>\n",
       "    </tr>\n",
       "    <tr>\n",
       "      <th>2480</th>\n",
       "      <td>2480</td>\n",
       "      <td>AVIATION</td>\n",
       "      <td>Brittany Brown \\n\\nbrittany.brown@yahoo.com\\n\\...</td>\n",
       "    </tr>\n",
       "    <tr>\n",
       "      <th>2481</th>\n",
       "      <td>2481</td>\n",
       "      <td>AVIATION</td>\n",
       "      <td>Charles Frazier \\n\\ncharles.frazier@hotmail.co...</td>\n",
       "    </tr>\n",
       "    <tr>\n",
       "      <th>2482</th>\n",
       "      <td>2482</td>\n",
       "      <td>AVIATION</td>\n",
       "      <td>Richard Camacho \\n\\nrichard.camacho@mail.com\\n...</td>\n",
       "    </tr>\n",
       "    <tr>\n",
       "      <th>2483</th>\n",
       "      <td>2483</td>\n",
       "      <td>AVIATION</td>\n",
       "      <td>Jonathan May \\n\\njonathan.may@gmail.com\\n\\n(94...</td>\n",
       "    </tr>\n",
       "  </tbody>\n",
       "</table>\n",
       "<p>2484 rows × 3 columns</p>\n",
       "</div>"
      ],
      "text/plain": [
       "        ID  Category                                               text\n",
       "0        1        HR  Alexis Lee \\n\\nalexis.lee@gmail.com\\n\\n(728) 6...\n",
       "1        2        HR  Brian Medina \\n\\nbrian.medina@outlook.com\\n\\n(...\n",
       "2        3        HR  Melinda Cohen \\n\\nmelinda.cohen@gmail.com\\n\\n(...\n",
       "3        4        HR  Penny Webb \\n\\npenny.webb@yahoo.com\\n\\n(465) 6...\n",
       "4        5        HR  Jennifer Hansen \\n\\njennifer.hansen@gmail.com\\...\n",
       "...    ...       ...                                                ...\n",
       "2479  2479  AVIATION  Randall Jackson \\n\\nrandall.jackson@gmail.com\\...\n",
       "2480  2480  AVIATION  Brittany Brown \\n\\nbrittany.brown@yahoo.com\\n\\...\n",
       "2481  2481  AVIATION  Charles Frazier \\n\\ncharles.frazier@hotmail.co...\n",
       "2482  2482  AVIATION  Richard Camacho \\n\\nrichard.camacho@mail.com\\n...\n",
       "2483  2483  AVIATION  Jonathan May \\n\\njonathan.may@gmail.com\\n\\n(94...\n",
       "\n",
       "[2484 rows x 3 columns]"
      ]
     },
     "execution_count": 21,
     "metadata": {},
     "output_type": "execute_result"
    }
   ],
   "source": [
    "more_resumes"
   ]
  },
  {
   "cell_type": "code",
   "execution_count": 22,
   "id": "16ddb088",
   "metadata": {},
   "outputs": [],
   "source": [
    "more_resumes.columns = more_resumes.columns.str.strip()"
   ]
  },
  {
   "cell_type": "code",
   "execution_count": 23,
   "id": "875c23ac",
   "metadata": {},
   "outputs": [],
   "source": [
    "more_resumes['text'] = more_resumes['text'].apply(lambda x: x.strip() if isinstance(x, str) else x)"
   ]
  },
  {
   "cell_type": "code",
   "execution_count": 24,
   "id": "ac76e1d9",
   "metadata": {},
   "outputs": [],
   "source": [
    "more_resumes['text'] = more_resumes['text'].str.lower()"
   ]
  },
  {
   "cell_type": "code",
   "execution_count": 25,
   "id": "2995b254",
   "metadata": {},
   "outputs": [
    {
     "data": {
      "text/html": [
       "<div>\n",
       "<style scoped>\n",
       "    .dataframe tbody tr th:only-of-type {\n",
       "        vertical-align: middle;\n",
       "    }\n",
       "\n",
       "    .dataframe tbody tr th {\n",
       "        vertical-align: top;\n",
       "    }\n",
       "\n",
       "    .dataframe thead th {\n",
       "        text-align: right;\n",
       "    }\n",
       "</style>\n",
       "<table border=\"1\" class=\"dataframe\">\n",
       "  <thead>\n",
       "    <tr style=\"text-align: right;\">\n",
       "      <th></th>\n",
       "      <th>ID</th>\n",
       "      <th>Category</th>\n",
       "      <th>text</th>\n",
       "    </tr>\n",
       "  </thead>\n",
       "  <tbody>\n",
       "    <tr>\n",
       "      <th>0</th>\n",
       "      <td>1</td>\n",
       "      <td>HR</td>\n",
       "      <td>alexis lee \\n\\nalexis.lee@gmail.com\\n\\n(728) 6...</td>\n",
       "    </tr>\n",
       "    <tr>\n",
       "      <th>1</th>\n",
       "      <td>2</td>\n",
       "      <td>HR</td>\n",
       "      <td>brian medina \\n\\nbrian.medina@outlook.com\\n\\n(...</td>\n",
       "    </tr>\n",
       "    <tr>\n",
       "      <th>2</th>\n",
       "      <td>3</td>\n",
       "      <td>HR</td>\n",
       "      <td>melinda cohen \\n\\nmelinda.cohen@gmail.com\\n\\n(...</td>\n",
       "    </tr>\n",
       "    <tr>\n",
       "      <th>3</th>\n",
       "      <td>4</td>\n",
       "      <td>HR</td>\n",
       "      <td>penny webb \\n\\npenny.webb@yahoo.com\\n\\n(465) 6...</td>\n",
       "    </tr>\n",
       "    <tr>\n",
       "      <th>4</th>\n",
       "      <td>5</td>\n",
       "      <td>HR</td>\n",
       "      <td>jennifer hansen \\n\\njennifer.hansen@gmail.com\\...</td>\n",
       "    </tr>\n",
       "    <tr>\n",
       "      <th>...</th>\n",
       "      <td>...</td>\n",
       "      <td>...</td>\n",
       "      <td>...</td>\n",
       "    </tr>\n",
       "    <tr>\n",
       "      <th>2479</th>\n",
       "      <td>2479</td>\n",
       "      <td>AVIATION</td>\n",
       "      <td>randall jackson \\n\\nrandall.jackson@gmail.com\\...</td>\n",
       "    </tr>\n",
       "    <tr>\n",
       "      <th>2480</th>\n",
       "      <td>2480</td>\n",
       "      <td>AVIATION</td>\n",
       "      <td>brittany brown \\n\\nbrittany.brown@yahoo.com\\n\\...</td>\n",
       "    </tr>\n",
       "    <tr>\n",
       "      <th>2481</th>\n",
       "      <td>2481</td>\n",
       "      <td>AVIATION</td>\n",
       "      <td>charles frazier \\n\\ncharles.frazier@hotmail.co...</td>\n",
       "    </tr>\n",
       "    <tr>\n",
       "      <th>2482</th>\n",
       "      <td>2482</td>\n",
       "      <td>AVIATION</td>\n",
       "      <td>richard camacho \\n\\nrichard.camacho@mail.com\\n...</td>\n",
       "    </tr>\n",
       "    <tr>\n",
       "      <th>2483</th>\n",
       "      <td>2483</td>\n",
       "      <td>AVIATION</td>\n",
       "      <td>jonathan may \\n\\njonathan.may@gmail.com\\n\\n(94...</td>\n",
       "    </tr>\n",
       "  </tbody>\n",
       "</table>\n",
       "<p>2484 rows × 3 columns</p>\n",
       "</div>"
      ],
      "text/plain": [
       "        ID  Category                                               text\n",
       "0        1        HR  alexis lee \\n\\nalexis.lee@gmail.com\\n\\n(728) 6...\n",
       "1        2        HR  brian medina \\n\\nbrian.medina@outlook.com\\n\\n(...\n",
       "2        3        HR  melinda cohen \\n\\nmelinda.cohen@gmail.com\\n\\n(...\n",
       "3        4        HR  penny webb \\n\\npenny.webb@yahoo.com\\n\\n(465) 6...\n",
       "4        5        HR  jennifer hansen \\n\\njennifer.hansen@gmail.com\\...\n",
       "...    ...       ...                                                ...\n",
       "2479  2479  AVIATION  randall jackson \\n\\nrandall.jackson@gmail.com\\...\n",
       "2480  2480  AVIATION  brittany brown \\n\\nbrittany.brown@yahoo.com\\n\\...\n",
       "2481  2481  AVIATION  charles frazier \\n\\ncharles.frazier@hotmail.co...\n",
       "2482  2482  AVIATION  richard camacho \\n\\nrichard.camacho@mail.com\\n...\n",
       "2483  2483  AVIATION  jonathan may \\n\\njonathan.may@gmail.com\\n\\n(94...\n",
       "\n",
       "[2484 rows x 3 columns]"
      ]
     },
     "execution_count": 25,
     "metadata": {},
     "output_type": "execute_result"
    }
   ],
   "source": [
    "more_resumes"
   ]
  },
  {
   "cell_type": "code",
   "execution_count": 26,
   "id": "16c08d99",
   "metadata": {},
   "outputs": [],
   "source": [
    "more_resumes['text'] = more_resumes['text'].str.replace('[^\\w\\s]', '', regex=True)"
   ]
  },
  {
   "cell_type": "code",
   "execution_count": 27,
   "id": "c086aeee",
   "metadata": {},
   "outputs": [
    {
     "data": {
      "text/plain": [
       "24"
      ]
     },
     "execution_count": 27,
     "metadata": {},
     "output_type": "execute_result"
    }
   ],
   "source": [
    "cats_more_res = more_resumes['Category'].nunique()\n",
    "cats_more_res"
   ]
  },
  {
   "cell_type": "code",
   "execution_count": 28,
   "id": "5efb876a",
   "metadata": {},
   "outputs": [
    {
     "data": {
      "text/plain": [
       "Category\n",
       "INFORMATION-TECHNOLOGY    120\n",
       "BUSINESS-DEVELOPMENT      120\n",
       "FINANCE                   118\n",
       "ACCOUNTANT                118\n",
       "ENGINEERING               118\n",
       "CHEF                      118\n",
       "AVIATION                  117\n",
       "ADVOCATE                  117\n",
       "FITNESS                   117\n",
       "SALES                     117\n",
       "BANKING                   115\n",
       "HEALTHCARE                115\n",
       "CONSULTANT                115\n",
       "CONSTRUCTION              112\n",
       "PUBLIC-RELATIONS          111\n",
       "HR                        110\n",
       "DESIGNER                  107\n",
       "ARTS                      103\n",
       "TEACHER                   102\n",
       "APPAREL                    97\n",
       "DIGITAL-MEDIA              96\n",
       "AGRICULTURE                63\n",
       "AUTOMOBILE                 36\n",
       "BPO                        21\n",
       "Name: count, dtype: int64"
      ]
     },
     "execution_count": 28,
     "metadata": {},
     "output_type": "execute_result"
    }
   ],
   "source": [
    "cat_counts = more_resumes['Category'].value_counts()\n",
    "cat_counts"
   ]
  },
  {
   "cell_type": "code",
   "execution_count": 29,
   "id": "11812581",
   "metadata": {},
   "outputs": [],
   "source": [
    "finance = more_resumes[more_resumes['Category'] == 'FINANCE']"
   ]
  },
  {
   "cell_type": "code",
   "execution_count": 30,
   "id": "74d5834e",
   "metadata": {},
   "outputs": [],
   "source": [
    "engineering = more_resumes[more_resumes['Category'] == 'ENGINEERING']"
   ]
  },
  {
   "cell_type": "code",
   "execution_count": 33,
   "id": "9330797f",
   "metadata": {},
   "outputs": [
    {
     "ename": "NameError",
     "evalue": "name 'top_words' is not defined",
     "output_type": "error",
     "traceback": [
      "\u001b[0;31m---------------------------------------------------------------------------\u001b[0m",
      "\u001b[0;31mNameError\u001b[0m                                 Traceback (most recent call last)",
      "Cell \u001b[0;32mIn[33], line 1\u001b[0m\n\u001b[0;32m----> 1\u001b[0m top_words(engineering, \u001b[38;5;241m20\u001b[39m, ngram_range \u001b[38;5;241m=\u001b[39m (\u001b[38;5;241m2\u001b[39m,\u001b[38;5;241m2\u001b[39m))\n",
      "\u001b[0;31mNameError\u001b[0m: name 'top_words' is not defined"
     ]
    }
   ],
   "source": [
    "top_words(engineering, 20, ngram_range = (2,2)) #this is no NER detection"
   ]
  },
  {
   "cell_type": "code",
   "execution_count": null,
   "id": "ffdaeae9",
   "metadata": {},
   "outputs": [],
   "source": [
    "top_words(finance, 20, ngram_range = (2,2)) #this is no NER detection"
   ]
  },
  {
   "cell_type": "markdown",
   "id": "75ae13fe",
   "metadata": {},
   "source": [
    "***"
   ]
  },
  {
   "cell_type": "markdown",
   "id": "2e018a67",
   "metadata": {},
   "source": [
    "### Maybe here this is where we start the NER, although i am guessing this hasnt been added.\n"
   ]
  },
  {
   "cell_type": "code",
   "execution_count": null,
   "id": "89702cfd",
   "metadata": {
    "scrolled": true
   },
   "outputs": [],
   "source": [
    "#pip install spacy spacy-transformers"
   ]
  },
  {
   "cell_type": "code",
   "execution_count": null,
   "id": "97eaaf75",
   "metadata": {},
   "outputs": [],
   "source": [
    "#import spacy \n",
    "#\n",
    "#nlpspacy_transformer = spacy.load(\"en_core_web_trf\")"
   ]
  },
  {
   "cell_type": "code",
   "execution_count": null,
   "id": "900e5d98",
   "metadata": {},
   "outputs": [],
   "source": [
    "#nlpspacy = spacy.load('en_core_web_md')"
   ]
  },
  {
   "cell_type": "code",
   "execution_count": null,
   "id": "01f00d80",
   "metadata": {},
   "outputs": [],
   "source": [
    "#NER_one = pd.DataFrame({\n",
    "#    'text': \"\".join(more_resumes['text'])\n",
    "#}, index = [0])"
   ]
  },
  {
   "cell_type": "code",
   "execution_count": null,
   "id": "95f5dfbf",
   "metadata": {},
   "outputs": [],
   "source": [
    "#NER_one"
   ]
  },
  {
   "cell_type": "code",
   "execution_count": null,
   "id": "874b6040",
   "metadata": {},
   "outputs": [],
   "source": [
    "#wc = WordCloud().generate(' '.join(NER_one['text']))\n",
    "#plt.imshow(wc)\n",
    "#plt.show()"
   ]
  },
  {
   "cell_type": "code",
   "execution_count": null,
   "id": "69c9c8be",
   "metadata": {},
   "outputs": [],
   "source": [
    "#doc = nlpspacy(NER_one['text'][0])"
   ]
  }
 ],
 "metadata": {
  "kernelspec": {
   "display_name": "Python 3 (ipykernel)",
   "language": "python",
   "name": "python3"
  },
  "language_info": {
   "codemirror_mode": {
    "name": "ipython",
    "version": 3
   },
   "file_extension": ".py",
   "mimetype": "text/x-python",
   "name": "python",
   "nbconvert_exporter": "python",
   "pygments_lexer": "ipython3",
   "version": "3.11.5"
  }
 },
 "nbformat": 4,
 "nbformat_minor": 5
}
