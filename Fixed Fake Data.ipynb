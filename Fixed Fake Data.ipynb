{
 "cells": [
  {
   "cell_type": "code",
   "execution_count": 1,
   "id": "aec6fbb7",
   "metadata": {},
   "outputs": [],
   "source": [
    "#!pip install faker"
   ]
  },
  {
   "cell_type": "code",
   "execution_count": 2,
   "id": "4903b393",
   "metadata": {},
   "outputs": [],
   "source": [
    "from faker import Faker\n",
    "import pandas as pd\n",
    "import re\n",
    "import random\n"
   ]
  },
  {
   "cell_type": "code",
   "execution_count": 3,
   "id": "7bae3e69",
   "metadata": {},
   "outputs": [],
   "source": [
    "faker = Faker()"
   ]
  },
  {
   "cell_type": "code",
   "execution_count": 4,
   "id": "f28417e2",
   "metadata": {},
   "outputs": [],
   "source": [
    "data = pd.read_csv('Resumes_noPII.csv', encoding = 'utf-8')"
   ]
  },
  {
   "cell_type": "code",
   "execution_count": 5,
   "id": "14285281",
   "metadata": {},
   "outputs": [],
   "source": [
    "data = pd.DataFrame(data)"
   ]
  },
  {
   "cell_type": "code",
   "execution_count": 6,
   "id": "6a640c89",
   "metadata": {},
   "outputs": [],
   "source": [
    "data = data.drop('Resume_html', axis = 1)"
   ]
  },
  {
   "cell_type": "code",
   "execution_count": 7,
   "id": "514d786c",
   "metadata": {
    "scrolled": true
   },
   "outputs": [
    {
     "data": {
      "text/html": [
       "<div>\n",
       "<style scoped>\n",
       "    .dataframe tbody tr th:only-of-type {\n",
       "        vertical-align: middle;\n",
       "    }\n",
       "\n",
       "    .dataframe tbody tr th {\n",
       "        vertical-align: top;\n",
       "    }\n",
       "\n",
       "    .dataframe thead th {\n",
       "        text-align: right;\n",
       "    }\n",
       "</style>\n",
       "<table border=\"1\" class=\"dataframe\">\n",
       "  <thead>\n",
       "    <tr style=\"text-align: right;\">\n",
       "      <th></th>\n",
       "      <th>ID</th>\n",
       "      <th>Resume_str</th>\n",
       "      <th>Category</th>\n",
       "    </tr>\n",
       "  </thead>\n",
       "  <tbody>\n",
       "    <tr>\n",
       "      <th>0</th>\n",
       "      <td>1</td>\n",
       "      <td>HR ADMINISTRATOR/MARKETING ASSOCIATE\\...</td>\n",
       "      <td>HR</td>\n",
       "    </tr>\n",
       "    <tr>\n",
       "      <th>1</th>\n",
       "      <td>2</td>\n",
       "      <td>HR SPECIALIST, US HR OPERATIONS      ...</td>\n",
       "      <td>HR</td>\n",
       "    </tr>\n",
       "    <tr>\n",
       "      <th>2</th>\n",
       "      <td>3</td>\n",
       "      <td>HR DIRECTOR       Summary      Over 2...</td>\n",
       "      <td>HR</td>\n",
       "    </tr>\n",
       "    <tr>\n",
       "      <th>3</th>\n",
       "      <td>4</td>\n",
       "      <td>HR SPECIALIST       Summary    Dedica...</td>\n",
       "      <td>HR</td>\n",
       "    </tr>\n",
       "    <tr>\n",
       "      <th>4</th>\n",
       "      <td>5</td>\n",
       "      <td>HR MANAGER         Skill Highlights  ...</td>\n",
       "      <td>HR</td>\n",
       "    </tr>\n",
       "    <tr>\n",
       "      <th>...</th>\n",
       "      <td>...</td>\n",
       "      <td>...</td>\n",
       "      <td>...</td>\n",
       "    </tr>\n",
       "    <tr>\n",
       "      <th>2478</th>\n",
       "      <td>2479</td>\n",
       "      <td>RANK: SGT/E-5 NON- COMMISSIONED OFFIC...</td>\n",
       "      <td>AVIATION</td>\n",
       "    </tr>\n",
       "    <tr>\n",
       "      <th>2479</th>\n",
       "      <td>2480</td>\n",
       "      <td>GOVERNMENT RELATIONS, COMMUNICATIONS ...</td>\n",
       "      <td>AVIATION</td>\n",
       "    </tr>\n",
       "    <tr>\n",
       "      <th>2480</th>\n",
       "      <td>2481</td>\n",
       "      <td>GEEK SQUAD AGENT         Professional...</td>\n",
       "      <td>AVIATION</td>\n",
       "    </tr>\n",
       "    <tr>\n",
       "      <th>2481</th>\n",
       "      <td>2482</td>\n",
       "      <td>PROGRAM DIRECTOR / OFFICE MANAGER    ...</td>\n",
       "      <td>AVIATION</td>\n",
       "    </tr>\n",
       "    <tr>\n",
       "      <th>2482</th>\n",
       "      <td>2483</td>\n",
       "      <td>STOREKEEPER II       Professional Sum...</td>\n",
       "      <td>AVIATION</td>\n",
       "    </tr>\n",
       "  </tbody>\n",
       "</table>\n",
       "<p>2483 rows × 3 columns</p>\n",
       "</div>"
      ],
      "text/plain": [
       "        ID                                         Resume_str  Category\n",
       "0        1           HR ADMINISTRATOR/MARKETING ASSOCIATE\\...        HR\n",
       "1        2           HR SPECIALIST, US HR OPERATIONS      ...        HR\n",
       "2        3           HR DIRECTOR       Summary      Over 2...        HR\n",
       "3        4           HR SPECIALIST       Summary    Dedica...        HR\n",
       "4        5           HR MANAGER         Skill Highlights  ...        HR\n",
       "...    ...                                                ...       ...\n",
       "2478  2479           RANK: SGT/E-5 NON- COMMISSIONED OFFIC...  AVIATION\n",
       "2479  2480           GOVERNMENT RELATIONS, COMMUNICATIONS ...  AVIATION\n",
       "2480  2481           GEEK SQUAD AGENT         Professional...  AVIATION\n",
       "2481  2482           PROGRAM DIRECTOR / OFFICE MANAGER    ...  AVIATION\n",
       "2482  2483           STOREKEEPER II       Professional Sum...  AVIATION\n",
       "\n",
       "[2483 rows x 3 columns]"
      ]
     },
     "execution_count": 7,
     "metadata": {},
     "output_type": "execute_result"
    }
   ],
   "source": [
    "data "
   ]
  },
  {
   "cell_type": "code",
   "execution_count": 8,
   "id": "b2211c73",
   "metadata": {},
   "outputs": [],
   "source": [
    "data['text'] = data['Resume_str']"
   ]
  },
  {
   "cell_type": "code",
   "execution_count": 9,
   "id": "75bed9fd",
   "metadata": {},
   "outputs": [],
   "source": [
    "data = data.drop('Resume_str', axis = 1)"
   ]
  },
  {
   "cell_type": "code",
   "execution_count": 10,
   "id": "01ee2842",
   "metadata": {},
   "outputs": [
    {
     "data": {
      "text/html": [
       "<div>\n",
       "<style scoped>\n",
       "    .dataframe tbody tr th:only-of-type {\n",
       "        vertical-align: middle;\n",
       "    }\n",
       "\n",
       "    .dataframe tbody tr th {\n",
       "        vertical-align: top;\n",
       "    }\n",
       "\n",
       "    .dataframe thead th {\n",
       "        text-align: right;\n",
       "    }\n",
       "</style>\n",
       "<table border=\"1\" class=\"dataframe\">\n",
       "  <thead>\n",
       "    <tr style=\"text-align: right;\">\n",
       "      <th></th>\n",
       "      <th>ID</th>\n",
       "      <th>Category</th>\n",
       "      <th>text</th>\n",
       "    </tr>\n",
       "  </thead>\n",
       "  <tbody>\n",
       "    <tr>\n",
       "      <th>0</th>\n",
       "      <td>1</td>\n",
       "      <td>HR</td>\n",
       "      <td>HR ADMINISTRATOR/MARKETING ASSOCIATE\\...</td>\n",
       "    </tr>\n",
       "    <tr>\n",
       "      <th>1</th>\n",
       "      <td>2</td>\n",
       "      <td>HR</td>\n",
       "      <td>HR SPECIALIST, US HR OPERATIONS      ...</td>\n",
       "    </tr>\n",
       "    <tr>\n",
       "      <th>2</th>\n",
       "      <td>3</td>\n",
       "      <td>HR</td>\n",
       "      <td>HR DIRECTOR       Summary      Over 2...</td>\n",
       "    </tr>\n",
       "    <tr>\n",
       "      <th>3</th>\n",
       "      <td>4</td>\n",
       "      <td>HR</td>\n",
       "      <td>HR SPECIALIST       Summary    Dedica...</td>\n",
       "    </tr>\n",
       "    <tr>\n",
       "      <th>4</th>\n",
       "      <td>5</td>\n",
       "      <td>HR</td>\n",
       "      <td>HR MANAGER         Skill Highlights  ...</td>\n",
       "    </tr>\n",
       "    <tr>\n",
       "      <th>...</th>\n",
       "      <td>...</td>\n",
       "      <td>...</td>\n",
       "      <td>...</td>\n",
       "    </tr>\n",
       "    <tr>\n",
       "      <th>2478</th>\n",
       "      <td>2479</td>\n",
       "      <td>AVIATION</td>\n",
       "      <td>RANK: SGT/E-5 NON- COMMISSIONED OFFIC...</td>\n",
       "    </tr>\n",
       "    <tr>\n",
       "      <th>2479</th>\n",
       "      <td>2480</td>\n",
       "      <td>AVIATION</td>\n",
       "      <td>GOVERNMENT RELATIONS, COMMUNICATIONS ...</td>\n",
       "    </tr>\n",
       "    <tr>\n",
       "      <th>2480</th>\n",
       "      <td>2481</td>\n",
       "      <td>AVIATION</td>\n",
       "      <td>GEEK SQUAD AGENT         Professional...</td>\n",
       "    </tr>\n",
       "    <tr>\n",
       "      <th>2481</th>\n",
       "      <td>2482</td>\n",
       "      <td>AVIATION</td>\n",
       "      <td>PROGRAM DIRECTOR / OFFICE MANAGER    ...</td>\n",
       "    </tr>\n",
       "    <tr>\n",
       "      <th>2482</th>\n",
       "      <td>2483</td>\n",
       "      <td>AVIATION</td>\n",
       "      <td>STOREKEEPER II       Professional Sum...</td>\n",
       "    </tr>\n",
       "  </tbody>\n",
       "</table>\n",
       "<p>2483 rows × 3 columns</p>\n",
       "</div>"
      ],
      "text/plain": [
       "        ID  Category                                               text\n",
       "0        1        HR           HR ADMINISTRATOR/MARKETING ASSOCIATE\\...\n",
       "1        2        HR           HR SPECIALIST, US HR OPERATIONS      ...\n",
       "2        3        HR           HR DIRECTOR       Summary      Over 2...\n",
       "3        4        HR           HR SPECIALIST       Summary    Dedica...\n",
       "4        5        HR           HR MANAGER         Skill Highlights  ...\n",
       "...    ...       ...                                                ...\n",
       "2478  2479  AVIATION           RANK: SGT/E-5 NON- COMMISSIONED OFFIC...\n",
       "2479  2480  AVIATION           GOVERNMENT RELATIONS, COMMUNICATIONS ...\n",
       "2480  2481  AVIATION           GEEK SQUAD AGENT         Professional...\n",
       "2481  2482  AVIATION           PROGRAM DIRECTOR / OFFICE MANAGER    ...\n",
       "2482  2483  AVIATION           STOREKEEPER II       Professional Sum...\n",
       "\n",
       "[2483 rows x 3 columns]"
      ]
     },
     "execution_count": 10,
     "metadata": {},
     "output_type": "execute_result"
    }
   ],
   "source": [
    "data"
   ]
  },
  {
   "cell_type": "code",
   "execution_count": 11,
   "id": "a9b6600c",
   "metadata": {},
   "outputs": [],
   "source": [
    "def replace_city_state(text):\n",
    "    # Enhanced pattern with negative lookahead to prevent matching skill lists\n",
    "    city_state_pattern = r'(?<!Skills:)(?<!,)\\b([A-Za-z]+(?:[\\s-][A-Za-z]+)*),\\s*([A-Z]{2})\\b(?!(?:,\\s*[A-Z]{2}\\b)+)'   #negative lookback\n",
    "\n",
    "    def replace_with_fake(match):\n",
    "        city = faker.city()\n",
    "        state = faker.state_abbr()\n",
    "        return f\" {city}, {state}  \"\n",
    "\n",
    "    new_text = re.sub(city_state_pattern, replace_with_fake, text)\n",
    "    return new_text"
   ]
  },
  {
   "cell_type": "code",
   "execution_count": 12,
   "id": "52d67d1e",
   "metadata": {},
   "outputs": [],
   "source": [
    "#def replace_city_state(text):\n",
    " #   city_state_pattern = r'(\\b\\w+\\b,\\s+\\b\\w+\\b)'  # Matches \"City , State\"\n",
    "  #  new_text = re.sub(city_state_pattern, lambda x: f'{faker.city()}, {faker.state_abbr()}', text)\n",
    "   # return new_text"
   ]
  },
  {
   "cell_type": "code",
   "execution_count": 13,
   "id": "8d9d659a",
   "metadata": {},
   "outputs": [],
   "source": [
    "data['text'] = data['text'].apply(replace_city_state)"
   ]
  },
  {
   "cell_type": "code",
   "execution_count": 14,
   "id": "a1b5f263",
   "metadata": {},
   "outputs": [],
   "source": [
    "def replace_placeholders(text):\n",
    "    fake_company = faker.company()\n",
    "    fake_city = faker.city()\n",
    "    fake_state = faker.state_abbr()\n",
    "    \n",
    "    modified_text = re.sub(r'\\s*Company Name\\s*', lambda m: f' {faker.company()}  ', text, flags=re.IGNORECASE)\n",
    "\n",
    "    # Updated pattern with word boundaries, whitespace, and space after replacement\n",
    "    modified_text = re.sub(r'\\b\\s*City\\s*,\\s*State\\s\\s*\\b', lambda m: f' {fake_city}, {fake_state}  ', modified_text, flags=re.IGNORECASE)\n",
    "\n",
    "    return modified_text"
   ]
  },
  {
   "cell_type": "code",
   "execution_count": 15,
   "id": "8e42a38c",
   "metadata": {},
   "outputs": [],
   "source": [
    "data['text'] = data['text'].apply(replace_placeholders)"
   ]
  },
  {
   "cell_type": "markdown",
   "id": "46183e6e",
   "metadata": {},
   "source": [
    "***"
   ]
  },
  {
   "cell_type": "markdown",
   "id": "5e5b8dd1",
   "metadata": {},
   "source": [
    "## Adding Names, Emails, and Phone Numbers\n"
   ]
  },
  {
   "cell_type": "code",
   "execution_count": 16,
   "id": "4a1bf275",
   "metadata": {},
   "outputs": [],
   "source": [
    "def format_name_email_phone(text):\n",
    "    fake_first_name = faker.first_name()\n",
    "    fake_last_name = faker.last_name()\n",
    "    \n",
    "    email_domains = [\n",
    "        'gmail.com',\n",
    "        \"yahoo.com\",\n",
    "        \"hotmail.com\",\n",
    "        \"outlook.com\",\n",
    "        \"example.com\",\n",
    "        \"aol.com\",\n",
    "        \"edu.com\",\n",
    "        \"mail.com\"\n",
    "    ]\n",
    "    \n",
    "    selected_domain = random.choice(email_domains)\n",
    "    \n",
    "    fake_email = f'{fake_first_name.lower()}.{fake_last_name.lower()}@{selected_domain}'\n",
    "    \n",
    "    \n",
    "    area_code = faker.random_int(min=100, max=999)\n",
    "    central_office_code = faker.random_int(min=100, max=999)\n",
    "    line_number = faker.random_int(min=1000, max=9999)\n",
    "    fake_phone_number = f\"({area_code}) {central_office_code}-{line_number}\"\n",
    "    \n",
    "    \n",
    "    formatted_string = f'{fake_first_name} {fake_last_name} \\n\\n{fake_email}\\n\\n{fake_phone_number}\\n'\n",
    "    \n",
    "    return formatted_string + text"
   ]
  },
  {
   "cell_type": "code",
   "execution_count": 17,
   "id": "689fae25",
   "metadata": {},
   "outputs": [],
   "source": [
    "data['text'] = data['text'].apply(format_name_email_phone)"
   ]
  },
  {
   "cell_type": "code",
   "execution_count": 19,
   "id": "44c9f33b",
   "metadata": {},
   "outputs": [],
   "source": [
    "#data.to_csv('Resumes_with_PII_updated.csv', index=False, encoding='utf-8')"
   ]
  }
 ],
 "metadata": {
  "kernelspec": {
   "display_name": "Python 3 (ipykernel)",
   "language": "python",
   "name": "python3"
  },
  "language_info": {
   "codemirror_mode": {
    "name": "ipython",
    "version": 3
   },
   "file_extension": ".py",
   "mimetype": "text/x-python",
   "name": "python",
   "nbconvert_exporter": "python",
   "pygments_lexer": "ipython3",
   "version": "3.11.5"
  }
 },
 "nbformat": 4,
 "nbformat_minor": 5
}
